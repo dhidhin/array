{
  "nbformat": 4,
  "nbformat_minor": 0,
  "metadata": {
    "colab": {
      "provenance": [],
      "authorship_tag": "ABX9TyPgTzB5NWbz9qlsnKT5Ksjz",
      "include_colab_link": true
    },
    "kernelspec": {
      "name": "python3",
      "display_name": "Python 3"
    },
    "language_info": {
      "name": "python"
    }
  },
  "cells": [
    {
      "cell_type": "markdown",
      "metadata": {
        "id": "view-in-github",
        "colab_type": "text"
      },
      "source": [
        "<a href=\"https://colab.research.google.com/github/dhidhin/array/blob/main/array.ipynb\" target=\"_parent\"><img src=\"https://colab.research.google.com/assets/colab-badge.svg\" alt=\"Open In Colab\"/></a>"
      ]
    },
    {
      "cell_type": "code",
      "execution_count": 1,
      "metadata": {
        "colab": {
          "base_uri": "https://localhost:8080/"
        },
        "id": "moWD4gIQbi9y",
        "outputId": "b522641c-5e7a-4334-c0d4-eb996fdf2460"
      },
      "outputs": [
        {
          "output_type": "stream",
          "name": "stdout",
          "text": [
            "1. Daftar belanja awal: []\n",
            "2. Setelah ditambah 3 item: ['Apel', 'Roti', 'Susu']\n",
            "3. Item pertama (indeks 0) adalah: Apel\n",
            "4. Setelah diubah, daftarnya menjadi: ['Apel', 'Roti Tawar', 'Susu']\n",
            "5. Setelah disisipkan Keju: ['Apel', 'Keju', 'Roti Tawar', 'Susu']\n",
            "6. Setelah Apel dihapus: ['Keju', 'Roti Tawar', 'Susu']\n"
          ]
        }
      ],
      "source": [
        "# 1. Membuat array (list) kosong untuk menyimpan daftar belanjaan\n",
        "daftar_belanja = []\n",
        "print(f\"1. Daftar belanja awal: {daftar_belanja}\")\n",
        "\n",
        "# 2. Menambah item di akhir array (append)\n",
        "daftar_belanja.append(\"Apel\")\n",
        "daftar_belanja.append(\"Roti\")\n",
        "daftar_belanja.append(\"Susu\")\n",
        "print(f\"2. Setelah ditambah 3 item: {daftar_belanja}\")\n",
        "\n",
        "# 3. Mengakses elemen berdasarkan indeks (dimulai dari 0)\n",
        "item_pertama = daftar_belanja[0]\n",
        "print(f\"3. Item pertama (indeks 0) adalah: {item_pertama}\")\n",
        "\n",
        "# 4. Mengubah nilai elemen pada indeks tertentu\n",
        "# Ternyata kita mau Roti Tawar, bukan Roti biasa\n",
        "daftar_belanja[1] = \"Roti Tawar\"\n",
        "print(f\"4. Setelah diubah, daftarnya menjadi: {daftar_belanja}\")\n",
        "\n",
        "\n",
        "# 5. Menambah item di posisi tertentu (insert)\n",
        "# Menambahkan \"Keju\" di posisi kedua (indeks 1)\n",
        "daftar_belanja.insert(1, \"Keju\")\n",
        "print(f\"5. Setelah disisipkan Keju: {daftar_belanja}\")\n",
        "\n",
        "# 6. Menghapus item berdasarkan nilainya (remove)\n",
        "# Kita tidak jadi beli Apel\n",
        "daftar_belanja.remove(\"Apel\")\n",
        "print(f\"6. Setelah Apel dihapus: {daftar_belanja}\")\n"
      ]
    }
  ]
}